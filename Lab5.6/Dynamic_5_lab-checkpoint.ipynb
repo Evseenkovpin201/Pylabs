{
 "cells": [
  {
   "cell_type": "code",
   "execution_count": 24,
   "id": "b0dfb56d",
   "metadata": {},
   "outputs": [
    {
     "name": "stdout",
     "output_type": "stream",
     "text": [
      "     total_bill   tip     sex smoker   day    time  size\n",
      "0         16.99  1.01  Female     No   Sun  Dinner     2\n",
      "1         10.34  1.66    Male     No   Sun  Dinner     3\n",
      "2         21.01  3.50    Male     No   Sun  Dinner     3\n",
      "3         23.68  3.31    Male     No   Sun  Dinner     2\n",
      "4         24.59  3.61  Female     No   Sun  Dinner     4\n",
      "..          ...   ...     ...    ...   ...     ...   ...\n",
      "239       29.03  5.92    Male     No   Sat  Dinner     3\n",
      "240       27.18  2.00  Female    Yes   Sat  Dinner     2\n",
      "241       22.67  2.00    Male    Yes   Sat  Dinner     2\n",
      "242       17.82  1.75    Male     No   Sat  Dinner     2\n",
      "243       18.78  3.00  Female     No  Thur  Dinner     2\n",
      "\n",
      "[244 rows x 7 columns]\n"
     ]
    }
   ],
   "source": [
    "#DataFrame tips.csv\n",
    "#DataFrame содержит информацию о чаевых:tip,sex,smoker,day,time,size\n",
    "\n",
    "#Описание столбцов:\n",
    "#total_bill:\n",
    "\n",
    " #общий чек,целочисленный\n",
    "\n",
    "#tip:\n",
    "\n",
    "#чаевые, целочисленный\n",
    "\n",
    "#sex:\n",
    "\n",
    "#пол,категоральный\n",
    "\n",
    "#smoker:\n",
    "\n",
    "#курильщик,категоральный\n",
    "\n",
    "#day:\n",
    "#название дня,текстовый\n",
    "\n",
    "#time:\n",
    "\n",
    "#время дня,текстовый\n",
    "#size:\n",
    "\n",
    "#размер, целочисленный\n",
    "\n",
    "\n",
    "import pandas as pd\n",
    "\n",
    "df = pd.read_csv('tips.csv')\n",
    "print(df)"
   ]
  },
  {
   "cell_type": "code",
   "execution_count": 3,
   "id": "e8507924",
   "metadata": {},
   "outputs": [
    {
     "name": "stdout",
     "output_type": "stream",
     "text": [
      "   total_bill   tip     sex smoker  day    time  size\n",
      "0       16.99  1.01  Female     No  Sun  Dinner     2\n",
      "1       10.34  1.66    Male     No  Sun  Dinner     3\n",
      "2       21.01  3.50    Male     No  Sun  Dinner     3\n",
      "3       23.68  3.31    Male     No  Sun  Dinner     2\n",
      "4       24.59  3.61  Female     No  Sun  Dinner     4\n"
     ]
    }
   ],
   "source": [
    "import pandas as pd\n",
    "\n",
    "df = pd.read_csv('tips.csv')\n",
    "print(df.head(5))"
   ]
  },
  {
   "cell_type": "code",
   "execution_count": 4,
   "id": "fe9a9732",
   "metadata": {},
   "outputs": [
    {
     "name": "stdout",
     "output_type": "stream",
     "text": [
      "     total_bill   tip     sex smoker   day    time  size\n",
      "239       29.03  5.92    Male     No   Sat  Dinner     3\n",
      "240       27.18  2.00  Female    Yes   Sat  Dinner     2\n",
      "241       22.67  2.00    Male    Yes   Sat  Dinner     2\n",
      "242       17.82  1.75    Male     No   Sat  Dinner     2\n",
      "243       18.78  3.00  Female     No  Thur  Dinner     2\n"
     ]
    }
   ],
   "source": [
    "import pandas as pd\n",
    "\n",
    "df = pd.read_csv('tips.csv')\n",
    "print(df.tail(5))"
   ]
  },
  {
   "cell_type": "code",
   "execution_count": 5,
   "id": "54a6f9e9",
   "metadata": {},
   "outputs": [
    {
     "name": "stdout",
     "output_type": "stream",
     "text": [
      "       total_bill         tip        size\n",
      "count  244.000000  244.000000  244.000000\n",
      "mean    19.785943    2.998279    2.569672\n",
      "std      8.902412    1.383638    0.951100\n",
      "min      3.070000    1.000000    1.000000\n",
      "25%     13.347500    2.000000    2.000000\n",
      "50%     17.795000    2.900000    2.000000\n",
      "75%     24.127500    3.562500    3.000000\n",
      "max     50.810000   10.000000    6.000000\n"
     ]
    }
   ],
   "source": [
    "import pandas as pd\n",
    "\n",
    "df = pd.read_csv('tips.csv')\n",
    "\n",
    "print(df.describe())"
   ]
  },
  {
   "cell_type": "code",
   "execution_count": 6,
   "id": "1d4bd8ae",
   "metadata": {},
   "outputs": [
    {
     "name": "stdout",
     "output_type": "stream",
     "text": [
      "3.31\n"
     ]
    }
   ],
   "source": [
    "import pandas as pd\n",
    "\n",
    "\n",
    "df = pd.read_csv('tips.csv')\n",
    "\n",
    "\n",
    "value = df.loc[3, 'tip']\n",
    "\n",
    "\n",
    "print(value)"
   ]
  },
  {
   "cell_type": "code",
   "execution_count": 7,
   "id": "f4ce182f",
   "metadata": {},
   "outputs": [
    {
     "name": "stdout",
     "output_type": "stream",
     "text": [
      "   total_bill   tip     sex smoker  day    time  size\n",
      "2       21.01  3.50    Male     No  Sun  Dinner     3\n",
      "3       23.68  3.31    Male     No  Sun  Dinner     2\n",
      "4       24.59  3.61  Female     No  Sun  Dinner     4\n",
      "5       25.29  4.71    Male     No  Sun  Dinner     4\n",
      "6        8.77  2.00    Male     No  Sun  Dinner     2\n",
      "7       26.88  3.12    Male     No  Sun  Dinner     4\n"
     ]
    }
   ],
   "source": [
    "import pandas as pd\n",
    "\n",
    "df = pd.read_csv('tips.csv')\n",
    "\n",
    "filtered_df = df.loc[2:7]\n",
    "\n",
    "print(filtered_df)"
   ]
  },
  {
   "cell_type": "code",
   "execution_count": 10,
   "id": "c7e0c439",
   "metadata": {},
   "outputs": [
    {
     "name": "stdout",
     "output_type": "stream",
     "text": [
      "     total_bill   tip   sex smoker   day    time  size\n",
      "122       14.26  2.50  Male     No  Thur   Lunch     2\n",
      "199       13.51  2.00  Male    Yes  Thur   Lunch     2\n",
      "212       48.33  9.00  Male     No   Sat  Dinner     4\n",
      "110       14.00  3.00  Male     No   Sat  Dinner     2\n",
      "211       25.89  5.16  Male    Yes   Sat  Dinner     4\n",
      "112       38.07  4.00  Male     No   Sun  Dinner     3\n",
      "113       23.95  2.55  Male     No   Sun  Dinner     2\n",
      "210       30.06  2.00  Male    Yes   Sat  Dinner     3\n",
      "116       29.93  5.07  Male     No   Sun  Dinner     4\n",
      "208       24.27  2.03  Male    Yes   Sat  Dinner     2\n",
      "207       38.73  3.00  Male    Yes   Sat  Dinner     4\n",
      "206       26.59  3.41  Male    Yes   Sat  Dinner     3\n",
      "120       11.69  2.31  Male     No  Thur   Lunch     2\n",
      "1         10.34  1.66  Male     No   Sun  Dinner     3\n",
      "123       15.95  2.00  Male     No  Thur   Lunch     2\n"
     ]
    }
   ],
   "source": [
    "import pandas as pd\n",
    "\n",
    "\n",
    "df = pd.read_csv('tips.csv')\n",
    "\n",
    "\n",
    "sorted_data = df.sort_values('sex', ascending=False)\n",
    "\n",
    "\n",
    "filtered_data = sorted_data.head(15)\n",
    "\n",
    "filtered_data.to_csv('filtered_tips.csv', index=False)\n",
    "\n",
    "print(filtered_data)"
   ]
  },
  {
   "cell_type": "code",
   "execution_count": 15,
   "id": "f1f12af7",
   "metadata": {},
   "outputs": [
    {
     "name": "stdout",
     "output_type": "stream",
     "text": [
      "     total_bill   tip     sex smoker   day    time  size  total\n",
      "0         16.99  1.01  Female     No   Sun  Dinner     2  20.00\n",
      "1         10.34  1.66    Male     No   Sun  Dinner     3  15.00\n",
      "2         21.01  3.50    Male     No   Sun  Dinner     3  27.51\n",
      "3         23.68  3.31    Male     No   Sun  Dinner     2  28.99\n",
      "4         24.59  3.61  Female     No   Sun  Dinner     4  32.20\n",
      "..          ...   ...     ...    ...   ...     ...   ...    ...\n",
      "239       29.03  5.92    Male     No   Sat  Dinner     3  37.95\n",
      "240       27.18  2.00  Female    Yes   Sat  Dinner     2  31.18\n",
      "241       22.67  2.00    Male    Yes   Sat  Dinner     2  26.67\n",
      "242       17.82  1.75    Male     No   Sat  Dinner     2  21.57\n",
      "243       18.78  3.00  Female     No  Thur  Dinner     2  23.78\n",
      "\n",
      "[244 rows x 8 columns]\n"
     ]
    }
   ],
   "source": [
    "import pandas as pd\n",
    "\n",
    "\n",
    "df = pd.read_csv('tips.csv')\n",
    "\n",
    "def sum_values(row):\n",
    "    return row['total_bill'] + row['tip'] + row['size']\n",
    "\n",
    "df['total'] = df.apply(sum_values, axis=1)\n",
    "\n",
    "print(df)"
   ]
  },
  {
   "cell_type": "code",
   "execution_count": 16,
   "id": "4f6d01ca",
   "metadata": {},
   "outputs": [
    {
     "name": "stdout",
     "output_type": "stream",
     "text": [
      "     total_bill   tip     sex smoker   day    time  size  total\n",
      "0         16.99  1.01  Female     No   Sun  Dinner     2  20.00\n",
      "1         10.34  1.66    Male     No   Sun  Dinner     3  15.00\n",
      "2         21.01  3.50    Male     No   Sun  Dinner     3  27.51\n",
      "3         23.68  3.31    Male     No   Sun  Dinner     2  28.99\n",
      "4         24.59  3.61  Female     No   Sun  Dinner     4  32.20\n",
      "..          ...   ...     ...    ...   ...     ...   ...    ...\n",
      "239       29.03  5.92    Male     No   Sat  Dinner     3  37.95\n",
      "240       27.18  2.00  Female    Yes   Sat  Dinner     2  31.18\n",
      "241       22.67  2.00    Male    Yes   Sat  Dinner     2  26.67\n",
      "242       17.82  1.75    Male     No   Sat  Dinner     2  21.57\n",
      "243       18.78  3.00  Female     No  Thur  Dinner     2  23.78\n",
      "\n",
      "[244 rows x 8 columns]\n"
     ]
    }
   ],
   "source": [
    "import pandas as pd\n",
    "\n",
    "\n",
    "df = pd.read_csv('tips.csv')\n",
    "\n",
    "def sum_values(row):\n",
    "    return row['total_bill'] + row['tip'] + row['size']\n",
    "\n",
    "\n",
    "df['total'] = df.apply(lambda row: sum_values(row), axis=1)\n",
    "\n",
    "\n",
    "print(df)"
   ]
  },
  {
   "cell_type": "code",
   "execution_count": 17,
   "id": "6ebcacdb",
   "metadata": {},
   "outputs": [
    {
     "name": "stdout",
     "output_type": "stream",
     "text": [
      "     total_bill    tip     sex smoker   day    time  size\n",
      "67         3.07   1.00  Female    Yes   Sat  Dinner     1\n",
      "92         5.75   1.00  Female    Yes   Fri  Dinner     2\n",
      "111        7.25   1.00  Female     No   Sat  Dinner     1\n",
      "172        7.25   5.15    Male    Yes   Sun  Dinner     2\n",
      "149        7.51   2.00    Male     No  Thur   Lunch     2\n",
      "..          ...    ...     ...    ...   ...     ...   ...\n",
      "182       45.35   3.50    Male    Yes   Sun  Dinner     3\n",
      "156       48.17   5.00    Male     No   Sun  Dinner     6\n",
      "59        48.27   6.73    Male     No   Sat  Dinner     4\n",
      "212       48.33   9.00    Male     No   Sat  Dinner     4\n",
      "170       50.81  10.00    Male    Yes   Sat  Dinner     3\n",
      "\n",
      "[244 rows x 7 columns]\n"
     ]
    }
   ],
   "source": [
    "import pandas as pd\n",
    "\n",
    "\n",
    "df = pd.read_csv('tips.csv')\n",
    "\n",
    "\n",
    "df_sorted = df.sort_values(by='total_bill')\n",
    "\n",
    "\n",
    "print(df_sorted)"
   ]
  },
  {
   "cell_type": "code",
   "execution_count": 18,
   "id": "1d31558f",
   "metadata": {},
   "outputs": [
    {
     "name": "stdout",
     "output_type": "stream",
     "text": [
      "     total_bill   tip     sex smoker   day    time  size\n",
      "0         16.99  1.01  Female     No   Sun  Dinner     2\n",
      "139       13.16  2.75  Female     No  Thur   Lunch     2\n",
      "137       14.15  2.00  Female     No  Thur   Lunch     2\n",
      "136       10.33  2.00  Female     No  Thur   Lunch     2\n",
      "135        8.51  1.25  Female     No  Thur   Lunch     2\n",
      "..          ...   ...     ...    ...   ...     ...   ...\n",
      "43         9.68  1.32    Male     No   Sun  Dinner     2\n",
      "42        13.94  3.06    Male     No   Sun  Dinner     2\n",
      "41        17.46  2.54    Male     No   Sun  Dinner     2\n",
      "39        31.27  5.00    Male     No   Sat  Dinner     3\n",
      "156       48.17  5.00    Male     No   Sun  Dinner     6\n",
      "\n",
      "[244 rows x 7 columns]\n"
     ]
    }
   ],
   "source": [
    "import pandas as pd\n",
    "\n",
    "\n",
    "df = pd.read_csv('tips.csv')\n",
    "\n",
    "\n",
    "df_sorted = df.sort_values(by='sex')\n",
    "\n",
    "\n",
    "print(df_sorted)"
   ]
  },
  {
   "cell_type": "code",
   "execution_count": 19,
   "id": "5fac2601",
   "metadata": {},
   "outputs": [
    {
     "name": "stdout",
     "output_type": "stream",
     "text": [
      "mean      19.785943\n",
      "median    17.795000\n",
      "std        8.902412\n",
      "min        3.070000\n",
      "max       50.810000\n",
      "Name: total_bill, dtype: float64\n"
     ]
    }
   ],
   "source": [
    "import pandas as pd\n",
    "\n",
    "df = pd.read_csv('tips.csv')\n",
    "\n",
    "\n",
    "cost_stats = df['total_bill'].agg(['mean', 'median', 'std', 'min', 'max'])\n",
    "\n",
    "\n",
    "print(cost_stats)"
   ]
  },
  {
   "cell_type": "code",
   "execution_count": 20,
   "id": "e7ce44f6",
   "metadata": {},
   "outputs": [
    {
     "name": "stdout",
     "output_type": "stream",
     "text": [
      "2    156\n",
      "3     38\n",
      "4     37\n",
      "5      5\n",
      "1      4\n",
      "6      4\n",
      "Name: size, dtype: int64\n"
     ]
    }
   ],
   "source": [
    "import pandas as pd\n",
    "\n",
    "\n",
    "df = pd.read_csv('tips.csv')\n",
    "\n",
    "\n",
    "precent_counts = df['size'].value_counts()\n",
    "\n",
    "\n",
    "print(precent_counts)"
   ]
  },
  {
   "cell_type": "code",
   "execution_count": 21,
   "id": "a8aa60ba",
   "metadata": {},
   "outputs": [
    {
     "name": "stdout",
     "output_type": "stream",
     "text": [
      "[2 3 4 1 6 5]\n"
     ]
    }
   ],
   "source": [
    "import pandas as pd\n",
    "\n",
    "\n",
    "df = pd.read_csv('tips.csv')\n",
    "\n",
    "\n",
    "unique_precent = df['size'].unique()\n",
    "\n",
    "\n",
    "print(unique_precent)"
   ]
  },
  {
   "cell_type": "code",
   "execution_count": 22,
   "id": "04dc4d97",
   "metadata": {},
   "outputs": [
    {
     "name": "stdout",
     "output_type": "stream",
     "text": [
      "     total_bill   tip     sex smoker   day    time  size\n",
      "0         16.99  1.01  Female     No   Sun  Dinner     2\n",
      "1         10.34  1.66    Male     No   Sun  Dinner     3\n",
      "2         21.01  3.50    Male     No   Sun  Dinner     3\n",
      "3         23.68  3.31    Male     No   Sun  Dinner     2\n",
      "4         24.59  3.61  Female     No   Sun  Dinner     4\n",
      "..          ...   ...     ...    ...   ...     ...   ...\n",
      "239       29.03  5.92    Male     No   Sat  Dinner     3\n",
      "240       27.18  2.00  Female    Yes   Sat  Dinner     2\n",
      "241       22.67  2.00    Male    Yes   Sat  Dinner     2\n",
      "242       17.82  1.75    Male     No   Sat  Dinner     2\n",
      "243       18.78  3.00  Female     No  Thur  Dinner     2\n",
      "\n",
      "[244 rows x 7 columns]\n",
      "             tip     sex smoker   day    time  size\n",
      "total_bill                                         \n",
      "16.99       1.01  Female     No   Sun  Dinner     2\n",
      "10.34       1.66    Male     No   Sun  Dinner     3\n",
      "21.01       3.50    Male     No   Sun  Dinner     3\n",
      "23.68       3.31    Male     No   Sun  Dinner     2\n",
      "24.59       3.61  Female     No   Sun  Dinner     4\n",
      "...          ...     ...    ...   ...     ...   ...\n",
      "29.03       5.92    Male     No   Sat  Dinner     3\n",
      "27.18       2.00  Female    Yes   Sat  Dinner     2\n",
      "22.67       2.00    Male    Yes   Sat  Dinner     2\n",
      "17.82       1.75    Male     No   Sat  Dinner     2\n",
      "18.78       3.00  Female     No  Thur  Dinner     2\n",
      "\n",
      "[244 rows x 6 columns]\n"
     ]
    }
   ],
   "source": [
    "import pandas as pd\n",
    "\n",
    "\n",
    "df = pd.read_csv('tips.csv')\n",
    "\n",
    "print(df)\n",
    "\n",
    "\n",
    "df = df.set_index('total_bill')\n",
    "\n",
    "\n",
    "print(df)"
   ]
  },
  {
   "cell_type": "code",
   "execution_count": 23,
   "id": "0498c88b",
   "metadata": {},
   "outputs": [
    {
     "data": {
      "text/html": [
       "<div>\n",
       "<style scoped>\n",
       "    .dataframe tbody tr th:only-of-type {\n",
       "        vertical-align: middle;\n",
       "    }\n",
       "\n",
       "    .dataframe tbody tr th {\n",
       "        vertical-align: top;\n",
       "    }\n",
       "\n",
       "    .dataframe thead th {\n",
       "        text-align: right;\n",
       "    }\n",
       "</style>\n",
       "<table border=\"1\" class=\"dataframe\">\n",
       "  <thead>\n",
       "    <tr style=\"text-align: right;\">\n",
       "      <th></th>\n",
       "      <th>total_bill</th>\n",
       "      <th>tip</th>\n",
       "      <th>sex</th>\n",
       "      <th>smoker</th>\n",
       "      <th>day</th>\n",
       "      <th>time</th>\n",
       "      <th>size</th>\n",
       "    </tr>\n",
       "  </thead>\n",
       "  <tbody>\n",
       "    <tr>\n",
       "      <th>0</th>\n",
       "      <td>16.99</td>\n",
       "      <td>1.01</td>\n",
       "      <td>Female</td>\n",
       "      <td>No</td>\n",
       "      <td>Sun</td>\n",
       "      <td>Dinner</td>\n",
       "      <td>2</td>\n",
       "    </tr>\n",
       "    <tr>\n",
       "      <th>1</th>\n",
       "      <td>10.34</td>\n",
       "      <td>1.66</td>\n",
       "      <td>Male</td>\n",
       "      <td>No</td>\n",
       "      <td>Sun</td>\n",
       "      <td>Dinner</td>\n",
       "      <td>3</td>\n",
       "    </tr>\n",
       "    <tr>\n",
       "      <th>2</th>\n",
       "      <td>21.01</td>\n",
       "      <td>3.50</td>\n",
       "      <td>Male</td>\n",
       "      <td>No</td>\n",
       "      <td>Sun</td>\n",
       "      <td>Dinner</td>\n",
       "      <td>3</td>\n",
       "    </tr>\n",
       "    <tr>\n",
       "      <th>3</th>\n",
       "      <td>23.68</td>\n",
       "      <td>3.31</td>\n",
       "      <td>Male</td>\n",
       "      <td>No</td>\n",
       "      <td>Sun</td>\n",
       "      <td>Dinner</td>\n",
       "      <td>2</td>\n",
       "    </tr>\n",
       "    <tr>\n",
       "      <th>4</th>\n",
       "      <td>24.59</td>\n",
       "      <td>3.61</td>\n",
       "      <td>Female</td>\n",
       "      <td>No</td>\n",
       "      <td>Sun</td>\n",
       "      <td>Dinner</td>\n",
       "      <td>4</td>\n",
       "    </tr>\n",
       "    <tr>\n",
       "      <th>...</th>\n",
       "      <td>...</td>\n",
       "      <td>...</td>\n",
       "      <td>...</td>\n",
       "      <td>...</td>\n",
       "      <td>...</td>\n",
       "      <td>...</td>\n",
       "      <td>...</td>\n",
       "    </tr>\n",
       "    <tr>\n",
       "      <th>239</th>\n",
       "      <td>29.03</td>\n",
       "      <td>5.92</td>\n",
       "      <td>Male</td>\n",
       "      <td>No</td>\n",
       "      <td>Sat</td>\n",
       "      <td>Dinner</td>\n",
       "      <td>3</td>\n",
       "    </tr>\n",
       "    <tr>\n",
       "      <th>240</th>\n",
       "      <td>27.18</td>\n",
       "      <td>2.00</td>\n",
       "      <td>Female</td>\n",
       "      <td>Yes</td>\n",
       "      <td>Sat</td>\n",
       "      <td>Dinner</td>\n",
       "      <td>2</td>\n",
       "    </tr>\n",
       "    <tr>\n",
       "      <th>241</th>\n",
       "      <td>22.67</td>\n",
       "      <td>2.00</td>\n",
       "      <td>Male</td>\n",
       "      <td>Yes</td>\n",
       "      <td>Sat</td>\n",
       "      <td>Dinner</td>\n",
       "      <td>2</td>\n",
       "    </tr>\n",
       "    <tr>\n",
       "      <th>242</th>\n",
       "      <td>17.82</td>\n",
       "      <td>1.75</td>\n",
       "      <td>Male</td>\n",
       "      <td>No</td>\n",
       "      <td>Sat</td>\n",
       "      <td>Dinner</td>\n",
       "      <td>2</td>\n",
       "    </tr>\n",
       "    <tr>\n",
       "      <th>243</th>\n",
       "      <td>18.78</td>\n",
       "      <td>3.00</td>\n",
       "      <td>Female</td>\n",
       "      <td>No</td>\n",
       "      <td>Thur</td>\n",
       "      <td>Dinner</td>\n",
       "      <td>2</td>\n",
       "    </tr>\n",
       "  </tbody>\n",
       "</table>\n",
       "<p>244 rows × 7 columns</p>\n",
       "</div>"
      ],
      "text/plain": [
       "     total_bill   tip     sex smoker   day    time  size\n",
       "0         16.99  1.01  Female     No   Sun  Dinner     2\n",
       "1         10.34  1.66    Male     No   Sun  Dinner     3\n",
       "2         21.01  3.50    Male     No   Sun  Dinner     3\n",
       "3         23.68  3.31    Male     No   Sun  Dinner     2\n",
       "4         24.59  3.61  Female     No   Sun  Dinner     4\n",
       "..          ...   ...     ...    ...   ...     ...   ...\n",
       "239       29.03  5.92    Male     No   Sat  Dinner     3\n",
       "240       27.18  2.00  Female    Yes   Sat  Dinner     2\n",
       "241       22.67  2.00    Male    Yes   Sat  Dinner     2\n",
       "242       17.82  1.75    Male     No   Sat  Dinner     2\n",
       "243       18.78  3.00  Female     No  Thur  Dinner     2\n",
       "\n",
       "[244 rows x 7 columns]"
      ]
     },
     "execution_count": 23,
     "metadata": {},
     "output_type": "execute_result"
    }
   ],
   "source": [
    "import pandas as pd\n",
    "df2 = pd.read_csv('tips.csv')\n",
    "df2['sex'] = df2['sex'].astype(str)\n",
    "df2 = df2.loc[(df2['sex'] != \"NaN\") & (df2['sex'] != \"nan\")]\n",
    "df2"
   ]
  },
  {
   "cell_type": "code",
   "execution_count": null,
   "id": "4e53f4f5",
   "metadata": {},
   "outputs": [],
   "source": []
  }
 ],
 "metadata": {
  "kernelspec": {
   "display_name": "Python 3 (ipykernel)",
   "language": "python",
   "name": "python3"
  },
  "language_info": {
   "codemirror_mode": {
    "name": "ipython",
    "version": 3
   },
   "file_extension": ".py",
   "mimetype": "text/x-python",
   "name": "python",
   "nbconvert_exporter": "python",
   "pygments_lexer": "ipython3",
   "version": "3.10.9"
  }
 },
 "nbformat": 4,
 "nbformat_minor": 5
}
